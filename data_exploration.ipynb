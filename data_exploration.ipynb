{
  "cells": [
    {
      "cell_type": "markdown",
      "metadata": {
        "id": "3w2L8uyQ1XXs"
      },
      "source": [
        "***Explorar datos con funciones como .head(), .info(), y .describe().***"
      ]
    },
    {
      "cell_type": "code",
      "execution_count": 12,
      "metadata": {
        "colab": {
          "base_uri": "https://localhost:8080/",
          "height": 363
        },
        "id": "ChXFQSEawxqg",
        "outputId": "cc69e003-a422-45ef-92a8-10e65ba96334"
      },
      "outputs": [
        {
          "data": {
            "application/vnd.microsoft.datawrangler.viewer.v0+json": {
              "columns": [
                {
                  "name": "index",
                  "rawType": "int64",
                  "type": "integer"
                },
                {
                  "name": "Producto",
                  "rawType": "object",
                  "type": "string"
                },
                {
                  "name": "Mes",
                  "rawType": "object",
                  "type": "string"
                },
                {
                  "name": "Sucursal",
                  "rawType": "object",
                  "type": "string"
                },
                {
                  "name": "Precio_unitario",
                  "rawType": "float64",
                  "type": "float"
                },
                {
                  "name": "Cantidad_vendida",
                  "rawType": "int64",
                  "type": "integer"
                }
              ],
              "conversionMethod": "pd.DataFrame",
              "ref": "bd589da2-e1c5-4bb9-ad21-3e9cebffa329",
              "rows": [
                [
                  "0",
                  "A",
                  "Enero",
                  "Norte",
                  "15.24",
                  "45"
                ],
                [
                  "1",
                  "A",
                  "Enero",
                  "Sur",
                  "92.37",
                  "11"
                ],
                [
                  "2",
                  "A",
                  "Enero",
                  "Este",
                  "49.81",
                  "29"
                ],
                [
                  "3",
                  "A",
                  "Enero",
                  "Oeste",
                  "31.58",
                  "36"
                ],
                [
                  "4",
                  "A",
                  "Febrero",
                  "Norte",
                  "18.45",
                  "25"
                ],
                [
                  "5",
                  "A",
                  "Febrero",
                  "Sur",
                  "26.46",
                  "21"
                ],
                [
                  "6",
                  "A",
                  "Febrero",
                  "Este",
                  "94.12",
                  "36"
                ],
                [
                  "7",
                  "A",
                  "Febrero",
                  "Oeste",
                  "67.44",
                  "10"
                ],
                [
                  "8",
                  "A",
                  "Marzo",
                  "Norte",
                  "56.5",
                  "37"
                ],
                [
                  "9",
                  "A",
                  "Marzo",
                  "Sur",
                  "69.14",
                  "9"
                ]
              ],
              "shape": {
                "columns": 5,
                "rows": 10
              }
            },
            "text/html": [
              "<div>\n",
              "<style scoped>\n",
              "    .dataframe tbody tr th:only-of-type {\n",
              "        vertical-align: middle;\n",
              "    }\n",
              "\n",
              "    .dataframe tbody tr th {\n",
              "        vertical-align: top;\n",
              "    }\n",
              "\n",
              "    .dataframe thead th {\n",
              "        text-align: right;\n",
              "    }\n",
              "</style>\n",
              "<table border=\"1\" class=\"dataframe\">\n",
              "  <thead>\n",
              "    <tr style=\"text-align: right;\">\n",
              "      <th></th>\n",
              "      <th>Producto</th>\n",
              "      <th>Mes</th>\n",
              "      <th>Sucursal</th>\n",
              "      <th>Precio_unitario</th>\n",
              "      <th>Cantidad_vendida</th>\n",
              "    </tr>\n",
              "  </thead>\n",
              "  <tbody>\n",
              "    <tr>\n",
              "      <th>0</th>\n",
              "      <td>A</td>\n",
              "      <td>Enero</td>\n",
              "      <td>Norte</td>\n",
              "      <td>15.24</td>\n",
              "      <td>45</td>\n",
              "    </tr>\n",
              "    <tr>\n",
              "      <th>1</th>\n",
              "      <td>A</td>\n",
              "      <td>Enero</td>\n",
              "      <td>Sur</td>\n",
              "      <td>92.37</td>\n",
              "      <td>11</td>\n",
              "    </tr>\n",
              "    <tr>\n",
              "      <th>2</th>\n",
              "      <td>A</td>\n",
              "      <td>Enero</td>\n",
              "      <td>Este</td>\n",
              "      <td>49.81</td>\n",
              "      <td>29</td>\n",
              "    </tr>\n",
              "    <tr>\n",
              "      <th>3</th>\n",
              "      <td>A</td>\n",
              "      <td>Enero</td>\n",
              "      <td>Oeste</td>\n",
              "      <td>31.58</td>\n",
              "      <td>36</td>\n",
              "    </tr>\n",
              "    <tr>\n",
              "      <th>4</th>\n",
              "      <td>A</td>\n",
              "      <td>Febrero</td>\n",
              "      <td>Norte</td>\n",
              "      <td>18.45</td>\n",
              "      <td>25</td>\n",
              "    </tr>\n",
              "    <tr>\n",
              "      <th>5</th>\n",
              "      <td>A</td>\n",
              "      <td>Febrero</td>\n",
              "      <td>Sur</td>\n",
              "      <td>26.46</td>\n",
              "      <td>21</td>\n",
              "    </tr>\n",
              "    <tr>\n",
              "      <th>6</th>\n",
              "      <td>A</td>\n",
              "      <td>Febrero</td>\n",
              "      <td>Este</td>\n",
              "      <td>94.12</td>\n",
              "      <td>36</td>\n",
              "    </tr>\n",
              "    <tr>\n",
              "      <th>7</th>\n",
              "      <td>A</td>\n",
              "      <td>Febrero</td>\n",
              "      <td>Oeste</td>\n",
              "      <td>67.44</td>\n",
              "      <td>10</td>\n",
              "    </tr>\n",
              "    <tr>\n",
              "      <th>8</th>\n",
              "      <td>A</td>\n",
              "      <td>Marzo</td>\n",
              "      <td>Norte</td>\n",
              "      <td>56.50</td>\n",
              "      <td>37</td>\n",
              "    </tr>\n",
              "    <tr>\n",
              "      <th>9</th>\n",
              "      <td>A</td>\n",
              "      <td>Marzo</td>\n",
              "      <td>Sur</td>\n",
              "      <td>69.14</td>\n",
              "      <td>9</td>\n",
              "    </tr>\n",
              "  </tbody>\n",
              "</table>\n",
              "</div>"
            ],
            "text/plain": [
              "  Producto      Mes Sucursal  Precio_unitario  Cantidad_vendida\n",
              "0        A    Enero    Norte            15.24                45\n",
              "1        A    Enero      Sur            92.37                11\n",
              "2        A    Enero     Este            49.81                29\n",
              "3        A    Enero    Oeste            31.58                36\n",
              "4        A  Febrero    Norte            18.45                25\n",
              "5        A  Febrero      Sur            26.46                21\n",
              "6        A  Febrero     Este            94.12                36\n",
              "7        A  Febrero    Oeste            67.44                10\n",
              "8        A    Marzo    Norte            56.50                37\n",
              "9        A    Marzo      Sur            69.14                 9"
            ]
          },
          "execution_count": 12,
          "metadata": {},
          "output_type": "execute_result"
        }
      ],
      "source": [
        "import pandas as pd\n",
        "df = pd.read_csv(\"CSVLaboratorio2AD_B.csv\")\n",
        "df.head(10)"
      ]
    },
    {
      "cell_type": "code",
      "execution_count": 13,
      "metadata": {
        "colab": {
          "base_uri": "https://localhost:8080/"
        },
        "id": "pgAvh7Ta1l80",
        "outputId": "51b88c54-27c5-49be-a814-1b57a96ee0f3"
      },
      "outputs": [
        {
          "name": "stdout",
          "output_type": "stream",
          "text": [
            "<class 'pandas.core.frame.DataFrame'>\n",
            "RangeIndex: 64 entries, 0 to 63\n",
            "Data columns (total 5 columns):\n",
            " #   Column            Non-Null Count  Dtype  \n",
            "---  ------            --------------  -----  \n",
            " 0   Producto          64 non-null     object \n",
            " 1   Mes               64 non-null     object \n",
            " 2   Sucursal          64 non-null     object \n",
            " 3   Precio_unitario   64 non-null     float64\n",
            " 4   Cantidad_vendida  64 non-null     int64  \n",
            "dtypes: float64(1), int64(1), object(3)\n",
            "memory usage: 2.6+ KB\n"
          ]
        }
      ],
      "source": [
        "df.info()"
      ]
    },
    {
      "cell_type": "code",
      "execution_count": 14,
      "metadata": {
        "colab": {
          "base_uri": "https://localhost:8080/",
          "height": 300
        },
        "id": "LQmqYtJm2UZC",
        "outputId": "09d9b5fc-000b-4832-fb41-456e5596ab89"
      },
      "outputs": [
        {
          "data": {
            "application/vnd.microsoft.datawrangler.viewer.v0+json": {
              "columns": [
                {
                  "name": "index",
                  "rawType": "object",
                  "type": "string"
                },
                {
                  "name": "Precio_unitario",
                  "rawType": "float64",
                  "type": "float"
                },
                {
                  "name": "Cantidad_vendida",
                  "rawType": "float64",
                  "type": "float"
                }
              ],
              "conversionMethod": "pd.DataFrame",
              "ref": "0b42e3b1-3b09-444e-926c-cbb996fd2ed9",
              "rows": [
                [
                  "count",
                  "64.0",
                  "64.0"
                ],
                [
                  "mean",
                  "54.157812500000006",
                  "27.78125"
                ],
                [
                  "std",
                  "26.6118924643798",
                  "12.794429281328677"
                ],
                [
                  "min",
                  "11.38",
                  "5.0"
                ],
                [
                  "25%",
                  "31.0125",
                  "17.75"
                ],
                [
                  "50%",
                  "55.795",
                  "25.0"
                ],
                [
                  "75%",
                  "72.595",
                  "36.25"
                ],
                [
                  "max",
                  "98.16",
                  "49.0"
                ]
              ],
              "shape": {
                "columns": 2,
                "rows": 8
              }
            },
            "text/html": [
              "<div>\n",
              "<style scoped>\n",
              "    .dataframe tbody tr th:only-of-type {\n",
              "        vertical-align: middle;\n",
              "    }\n",
              "\n",
              "    .dataframe tbody tr th {\n",
              "        vertical-align: top;\n",
              "    }\n",
              "\n",
              "    .dataframe thead th {\n",
              "        text-align: right;\n",
              "    }\n",
              "</style>\n",
              "<table border=\"1\" class=\"dataframe\">\n",
              "  <thead>\n",
              "    <tr style=\"text-align: right;\">\n",
              "      <th></th>\n",
              "      <th>Precio_unitario</th>\n",
              "      <th>Cantidad_vendida</th>\n",
              "    </tr>\n",
              "  </thead>\n",
              "  <tbody>\n",
              "    <tr>\n",
              "      <th>count</th>\n",
              "      <td>64.000000</td>\n",
              "      <td>64.000000</td>\n",
              "    </tr>\n",
              "    <tr>\n",
              "      <th>mean</th>\n",
              "      <td>54.157813</td>\n",
              "      <td>27.781250</td>\n",
              "    </tr>\n",
              "    <tr>\n",
              "      <th>std</th>\n",
              "      <td>26.611892</td>\n",
              "      <td>12.794429</td>\n",
              "    </tr>\n",
              "    <tr>\n",
              "      <th>min</th>\n",
              "      <td>11.380000</td>\n",
              "      <td>5.000000</td>\n",
              "    </tr>\n",
              "    <tr>\n",
              "      <th>25%</th>\n",
              "      <td>31.012500</td>\n",
              "      <td>17.750000</td>\n",
              "    </tr>\n",
              "    <tr>\n",
              "      <th>50%</th>\n",
              "      <td>55.795000</td>\n",
              "      <td>25.000000</td>\n",
              "    </tr>\n",
              "    <tr>\n",
              "      <th>75%</th>\n",
              "      <td>72.595000</td>\n",
              "      <td>36.250000</td>\n",
              "    </tr>\n",
              "    <tr>\n",
              "      <th>max</th>\n",
              "      <td>98.160000</td>\n",
              "      <td>49.000000</td>\n",
              "    </tr>\n",
              "  </tbody>\n",
              "</table>\n",
              "</div>"
            ],
            "text/plain": [
              "       Precio_unitario  Cantidad_vendida\n",
              "count        64.000000         64.000000\n",
              "mean         54.157813         27.781250\n",
              "std          26.611892         12.794429\n",
              "min          11.380000          5.000000\n",
              "25%          31.012500         17.750000\n",
              "50%          55.795000         25.000000\n",
              "75%          72.595000         36.250000\n",
              "max          98.160000         49.000000"
            ]
          },
          "execution_count": 14,
          "metadata": {},
          "output_type": "execute_result"
        }
      ],
      "source": [
        "df.describe()"
      ]
    },
    {
      "cell_type": "markdown",
      "metadata": {
        "id": "cMmidD7K26VN"
      },
      "source": [
        "***Crear una nueva columna llamada “Ingresos Totales”.***"
      ]
    },
    {
      "cell_type": "code",
      "execution_count": 15,
      "metadata": {
        "colab": {
          "base_uri": "https://localhost:8080/",
          "height": 206
        },
        "id": "yOQoEDLY2-T7",
        "outputId": "edce0d69-d66f-48ca-ec5f-d13f98b8d140"
      },
      "outputs": [
        {
          "data": {
            "application/vnd.microsoft.datawrangler.viewer.v0+json": {
              "columns": [
                {
                  "name": "index",
                  "rawType": "int64",
                  "type": "integer"
                },
                {
                  "name": "Producto",
                  "rawType": "object",
                  "type": "string"
                },
                {
                  "name": "Mes",
                  "rawType": "object",
                  "type": "string"
                },
                {
                  "name": "Sucursal",
                  "rawType": "object",
                  "type": "string"
                },
                {
                  "name": "Precio_unitario",
                  "rawType": "float64",
                  "type": "float"
                },
                {
                  "name": "Cantidad_vendida",
                  "rawType": "int64",
                  "type": "integer"
                },
                {
                  "name": "Ingresos_totales",
                  "rawType": "float64",
                  "type": "float"
                }
              ],
              "conversionMethod": "pd.DataFrame",
              "ref": "23f32e30-77be-46ce-9c9a-cf18adefa574",
              "rows": [
                [
                  "0",
                  "A",
                  "Enero",
                  "Norte",
                  "15.24",
                  "45",
                  "685.8"
                ],
                [
                  "1",
                  "A",
                  "Enero",
                  "Sur",
                  "92.37",
                  "11",
                  "1016.07"
                ],
                [
                  "2",
                  "A",
                  "Enero",
                  "Este",
                  "49.81",
                  "29",
                  "1444.49"
                ],
                [
                  "3",
                  "A",
                  "Enero",
                  "Oeste",
                  "31.58",
                  "36",
                  "1136.8799999999999"
                ],
                [
                  "4",
                  "A",
                  "Febrero",
                  "Norte",
                  "18.45",
                  "25",
                  "461.25"
                ]
              ],
              "shape": {
                "columns": 6,
                "rows": 5
              }
            },
            "text/html": [
              "<div>\n",
              "<style scoped>\n",
              "    .dataframe tbody tr th:only-of-type {\n",
              "        vertical-align: middle;\n",
              "    }\n",
              "\n",
              "    .dataframe tbody tr th {\n",
              "        vertical-align: top;\n",
              "    }\n",
              "\n",
              "    .dataframe thead th {\n",
              "        text-align: right;\n",
              "    }\n",
              "</style>\n",
              "<table border=\"1\" class=\"dataframe\">\n",
              "  <thead>\n",
              "    <tr style=\"text-align: right;\">\n",
              "      <th></th>\n",
              "      <th>Producto</th>\n",
              "      <th>Mes</th>\n",
              "      <th>Sucursal</th>\n",
              "      <th>Precio_unitario</th>\n",
              "      <th>Cantidad_vendida</th>\n",
              "      <th>Ingresos_totales</th>\n",
              "    </tr>\n",
              "  </thead>\n",
              "  <tbody>\n",
              "    <tr>\n",
              "      <th>0</th>\n",
              "      <td>A</td>\n",
              "      <td>Enero</td>\n",
              "      <td>Norte</td>\n",
              "      <td>15.24</td>\n",
              "      <td>45</td>\n",
              "      <td>685.80</td>\n",
              "    </tr>\n",
              "    <tr>\n",
              "      <th>1</th>\n",
              "      <td>A</td>\n",
              "      <td>Enero</td>\n",
              "      <td>Sur</td>\n",
              "      <td>92.37</td>\n",
              "      <td>11</td>\n",
              "      <td>1016.07</td>\n",
              "    </tr>\n",
              "    <tr>\n",
              "      <th>2</th>\n",
              "      <td>A</td>\n",
              "      <td>Enero</td>\n",
              "      <td>Este</td>\n",
              "      <td>49.81</td>\n",
              "      <td>29</td>\n",
              "      <td>1444.49</td>\n",
              "    </tr>\n",
              "    <tr>\n",
              "      <th>3</th>\n",
              "      <td>A</td>\n",
              "      <td>Enero</td>\n",
              "      <td>Oeste</td>\n",
              "      <td>31.58</td>\n",
              "      <td>36</td>\n",
              "      <td>1136.88</td>\n",
              "    </tr>\n",
              "    <tr>\n",
              "      <th>4</th>\n",
              "      <td>A</td>\n",
              "      <td>Febrero</td>\n",
              "      <td>Norte</td>\n",
              "      <td>18.45</td>\n",
              "      <td>25</td>\n",
              "      <td>461.25</td>\n",
              "    </tr>\n",
              "  </tbody>\n",
              "</table>\n",
              "</div>"
            ],
            "text/plain": [
              "  Producto      Mes Sucursal  Precio_unitario  Cantidad_vendida  \\\n",
              "0        A    Enero    Norte            15.24                45   \n",
              "1        A    Enero      Sur            92.37                11   \n",
              "2        A    Enero     Este            49.81                29   \n",
              "3        A    Enero    Oeste            31.58                36   \n",
              "4        A  Febrero    Norte            18.45                25   \n",
              "\n",
              "   Ingresos_totales  \n",
              "0            685.80  \n",
              "1           1016.07  \n",
              "2           1444.49  \n",
              "3           1136.88  \n",
              "4            461.25  "
            ]
          },
          "execution_count": 15,
          "metadata": {},
          "output_type": "execute_result"
        }
      ],
      "source": [
        "df['Ingresos_totales'] = df['Precio_unitario'] * df['Cantidad_vendida']\n",
        "df.head()"
      ]
    },
    {
      "cell_type": "markdown",
      "metadata": {
        "id": "AUAaGJ2p5Rh4"
      },
      "source": [
        "***Filtrar datos según una condición (Filtrar aquellos productos de los que se hay vendido más de 40 unidades).***"
      ]
    },
    {
      "cell_type": "code",
      "execution_count": 16,
      "metadata": {
        "colab": {
          "base_uri": "https://localhost:8080/",
          "height": 426
        },
        "id": "mvLTeBax5Yte",
        "outputId": "7c626e2b-2beb-403e-d785-31ffdda0b021"
      },
      "outputs": [
        {
          "data": {
            "application/vnd.microsoft.datawrangler.viewer.v0+json": {
              "columns": [
                {
                  "name": "index",
                  "rawType": "int64",
                  "type": "integer"
                },
                {
                  "name": "Producto",
                  "rawType": "object",
                  "type": "string"
                },
                {
                  "name": "Mes",
                  "rawType": "object",
                  "type": "string"
                },
                {
                  "name": "Sucursal",
                  "rawType": "object",
                  "type": "string"
                },
                {
                  "name": "Precio_unitario",
                  "rawType": "float64",
                  "type": "float"
                },
                {
                  "name": "Cantidad_vendida",
                  "rawType": "int64",
                  "type": "integer"
                },
                {
                  "name": "Ingresos_totales",
                  "rawType": "float64",
                  "type": "float"
                }
              ],
              "conversionMethod": "pd.DataFrame",
              "ref": "1fe7e252-8af3-412f-9bfe-786129bfb170",
              "rows": [
                [
                  "0",
                  "A",
                  "Enero",
                  "Norte",
                  "15.24",
                  "45",
                  "685.8"
                ],
                [
                  "12",
                  "A",
                  "Abril",
                  "Norte",
                  "14.29",
                  "49",
                  "700.2099999999999"
                ],
                [
                  "14",
                  "A",
                  "Abril",
                  "Este",
                  "24.28",
                  "48",
                  "1165.44"
                ],
                [
                  "17",
                  "B",
                  "Enero",
                  "Sur",
                  "18.26",
                  "49",
                  "894.7400000000001"
                ],
                [
                  "25",
                  "B",
                  "Marzo",
                  "Sur",
                  "41.17",
                  "49",
                  "2017.3300000000002"
                ],
                [
                  "30",
                  "B",
                  "Abril",
                  "Este",
                  "89.8",
                  "41",
                  "3681.7999999999997"
                ],
                [
                  "33",
                  "C",
                  "Enero",
                  "Sur",
                  "94.01",
                  "49",
                  "4606.490000000001"
                ],
                [
                  "35",
                  "C",
                  "Enero",
                  "Oeste",
                  "58.54",
                  "48",
                  "2809.92"
                ],
                [
                  "40",
                  "C",
                  "Marzo",
                  "Norte",
                  "88.05",
                  "49",
                  "4314.45"
                ],
                [
                  "43",
                  "C",
                  "Marzo",
                  "Oeste",
                  "70.95",
                  "41",
                  "2908.9500000000003"
                ],
                [
                  "52",
                  "D",
                  "Febrero",
                  "Norte",
                  "34.66",
                  "47",
                  "1629.0199999999998"
                ],
                [
                  "63",
                  "D",
                  "Abril",
                  "Oeste",
                  "54.64",
                  "45",
                  "2458.8"
                ]
              ],
              "shape": {
                "columns": 6,
                "rows": 12
              }
            },
            "text/html": [
              "<div>\n",
              "<style scoped>\n",
              "    .dataframe tbody tr th:only-of-type {\n",
              "        vertical-align: middle;\n",
              "    }\n",
              "\n",
              "    .dataframe tbody tr th {\n",
              "        vertical-align: top;\n",
              "    }\n",
              "\n",
              "    .dataframe thead th {\n",
              "        text-align: right;\n",
              "    }\n",
              "</style>\n",
              "<table border=\"1\" class=\"dataframe\">\n",
              "  <thead>\n",
              "    <tr style=\"text-align: right;\">\n",
              "      <th></th>\n",
              "      <th>Producto</th>\n",
              "      <th>Mes</th>\n",
              "      <th>Sucursal</th>\n",
              "      <th>Precio_unitario</th>\n",
              "      <th>Cantidad_vendida</th>\n",
              "      <th>Ingresos_totales</th>\n",
              "    </tr>\n",
              "  </thead>\n",
              "  <tbody>\n",
              "    <tr>\n",
              "      <th>0</th>\n",
              "      <td>A</td>\n",
              "      <td>Enero</td>\n",
              "      <td>Norte</td>\n",
              "      <td>15.24</td>\n",
              "      <td>45</td>\n",
              "      <td>685.80</td>\n",
              "    </tr>\n",
              "    <tr>\n",
              "      <th>12</th>\n",
              "      <td>A</td>\n",
              "      <td>Abril</td>\n",
              "      <td>Norte</td>\n",
              "      <td>14.29</td>\n",
              "      <td>49</td>\n",
              "      <td>700.21</td>\n",
              "    </tr>\n",
              "    <tr>\n",
              "      <th>14</th>\n",
              "      <td>A</td>\n",
              "      <td>Abril</td>\n",
              "      <td>Este</td>\n",
              "      <td>24.28</td>\n",
              "      <td>48</td>\n",
              "      <td>1165.44</td>\n",
              "    </tr>\n",
              "    <tr>\n",
              "      <th>17</th>\n",
              "      <td>B</td>\n",
              "      <td>Enero</td>\n",
              "      <td>Sur</td>\n",
              "      <td>18.26</td>\n",
              "      <td>49</td>\n",
              "      <td>894.74</td>\n",
              "    </tr>\n",
              "    <tr>\n",
              "      <th>25</th>\n",
              "      <td>B</td>\n",
              "      <td>Marzo</td>\n",
              "      <td>Sur</td>\n",
              "      <td>41.17</td>\n",
              "      <td>49</td>\n",
              "      <td>2017.33</td>\n",
              "    </tr>\n",
              "    <tr>\n",
              "      <th>30</th>\n",
              "      <td>B</td>\n",
              "      <td>Abril</td>\n",
              "      <td>Este</td>\n",
              "      <td>89.80</td>\n",
              "      <td>41</td>\n",
              "      <td>3681.80</td>\n",
              "    </tr>\n",
              "    <tr>\n",
              "      <th>33</th>\n",
              "      <td>C</td>\n",
              "      <td>Enero</td>\n",
              "      <td>Sur</td>\n",
              "      <td>94.01</td>\n",
              "      <td>49</td>\n",
              "      <td>4606.49</td>\n",
              "    </tr>\n",
              "    <tr>\n",
              "      <th>35</th>\n",
              "      <td>C</td>\n",
              "      <td>Enero</td>\n",
              "      <td>Oeste</td>\n",
              "      <td>58.54</td>\n",
              "      <td>48</td>\n",
              "      <td>2809.92</td>\n",
              "    </tr>\n",
              "    <tr>\n",
              "      <th>40</th>\n",
              "      <td>C</td>\n",
              "      <td>Marzo</td>\n",
              "      <td>Norte</td>\n",
              "      <td>88.05</td>\n",
              "      <td>49</td>\n",
              "      <td>4314.45</td>\n",
              "    </tr>\n",
              "    <tr>\n",
              "      <th>43</th>\n",
              "      <td>C</td>\n",
              "      <td>Marzo</td>\n",
              "      <td>Oeste</td>\n",
              "      <td>70.95</td>\n",
              "      <td>41</td>\n",
              "      <td>2908.95</td>\n",
              "    </tr>\n",
              "    <tr>\n",
              "      <th>52</th>\n",
              "      <td>D</td>\n",
              "      <td>Febrero</td>\n",
              "      <td>Norte</td>\n",
              "      <td>34.66</td>\n",
              "      <td>47</td>\n",
              "      <td>1629.02</td>\n",
              "    </tr>\n",
              "    <tr>\n",
              "      <th>63</th>\n",
              "      <td>D</td>\n",
              "      <td>Abril</td>\n",
              "      <td>Oeste</td>\n",
              "      <td>54.64</td>\n",
              "      <td>45</td>\n",
              "      <td>2458.80</td>\n",
              "    </tr>\n",
              "  </tbody>\n",
              "</table>\n",
              "</div>"
            ],
            "text/plain": [
              "   Producto      Mes Sucursal  Precio_unitario  Cantidad_vendida  \\\n",
              "0         A    Enero    Norte            15.24                45   \n",
              "12        A    Abril    Norte            14.29                49   \n",
              "14        A    Abril     Este            24.28                48   \n",
              "17        B    Enero      Sur            18.26                49   \n",
              "25        B    Marzo      Sur            41.17                49   \n",
              "30        B    Abril     Este            89.80                41   \n",
              "33        C    Enero      Sur            94.01                49   \n",
              "35        C    Enero    Oeste            58.54                48   \n",
              "40        C    Marzo    Norte            88.05                49   \n",
              "43        C    Marzo    Oeste            70.95                41   \n",
              "52        D  Febrero    Norte            34.66                47   \n",
              "63        D    Abril    Oeste            54.64                45   \n",
              "\n",
              "    Ingresos_totales  \n",
              "0             685.80  \n",
              "12            700.21  \n",
              "14           1165.44  \n",
              "17            894.74  \n",
              "25           2017.33  \n",
              "30           3681.80  \n",
              "33           4606.49  \n",
              "35           2809.92  \n",
              "40           4314.45  \n",
              "43           2908.95  \n",
              "52           1629.02  \n",
              "63           2458.80  "
            ]
          },
          "execution_count": 16,
          "metadata": {},
          "output_type": "execute_result"
        }
      ],
      "source": [
        "filtro = df[df['Cantidad_vendida'] > 40]\n",
        "filtro"
      ]
    },
    {
      "cell_type": "markdown",
      "metadata": {
        "id": "A2gTCQ5TBYRY"
      },
      "source": [
        "***Filtrar los 10 precios más altos.***"
      ]
    },
    {
      "cell_type": "code",
      "execution_count": 17,
      "metadata": {
        "colab": {
          "base_uri": "https://localhost:8080/",
          "height": 363
        },
        "id": "MdrWnyP9BbFf",
        "outputId": "381f8fec-8d55-40d0-d3a3-09ff4fd601de"
      },
      "outputs": [
        {
          "data": {
            "application/vnd.microsoft.datawrangler.viewer.v0+json": {
              "columns": [
                {
                  "name": "index",
                  "rawType": "int64",
                  "type": "integer"
                },
                {
                  "name": "Producto",
                  "rawType": "object",
                  "type": "string"
                },
                {
                  "name": "Mes",
                  "rawType": "object",
                  "type": "string"
                },
                {
                  "name": "Sucursal",
                  "rawType": "object",
                  "type": "string"
                },
                {
                  "name": "Precio_unitario",
                  "rawType": "float64",
                  "type": "float"
                },
                {
                  "name": "Cantidad_vendida",
                  "rawType": "int64",
                  "type": "integer"
                },
                {
                  "name": "Ingresos_totales",
                  "rawType": "float64",
                  "type": "float"
                }
              ],
              "conversionMethod": "pd.DataFrame",
              "ref": "6fbcf88c-797d-46ff-8c04-58f7462cf6eb",
              "rows": [
                [
                  "20",
                  "B",
                  "Febrero",
                  "Norte",
                  "98.16",
                  "24",
                  "2355.84"
                ],
                [
                  "29",
                  "B",
                  "Abril",
                  "Sur",
                  "95.42",
                  "35",
                  "3339.7000000000003"
                ],
                [
                  "39",
                  "C",
                  "Febrero",
                  "Oeste",
                  "94.98",
                  "19",
                  "1804.6200000000001"
                ],
                [
                  "38",
                  "C",
                  "Febrero",
                  "Este",
                  "94.95",
                  "13",
                  "1234.3500000000001"
                ],
                [
                  "6",
                  "A",
                  "Febrero",
                  "Este",
                  "94.12",
                  "36",
                  "3388.32"
                ],
                [
                  "33",
                  "C",
                  "Enero",
                  "Sur",
                  "94.01",
                  "49",
                  "4606.490000000001"
                ],
                [
                  "1",
                  "A",
                  "Enero",
                  "Sur",
                  "92.37",
                  "11",
                  "1016.07"
                ],
                [
                  "30",
                  "B",
                  "Abril",
                  "Este",
                  "89.8",
                  "41",
                  "3681.7999999999997"
                ],
                [
                  "40",
                  "C",
                  "Marzo",
                  "Norte",
                  "88.05",
                  "49",
                  "4314.45"
                ],
                [
                  "47",
                  "C",
                  "Abril",
                  "Oeste",
                  "83.86",
                  "7",
                  "587.02"
                ]
              ],
              "shape": {
                "columns": 6,
                "rows": 10
              }
            },
            "text/html": [
              "<div>\n",
              "<style scoped>\n",
              "    .dataframe tbody tr th:only-of-type {\n",
              "        vertical-align: middle;\n",
              "    }\n",
              "\n",
              "    .dataframe tbody tr th {\n",
              "        vertical-align: top;\n",
              "    }\n",
              "\n",
              "    .dataframe thead th {\n",
              "        text-align: right;\n",
              "    }\n",
              "</style>\n",
              "<table border=\"1\" class=\"dataframe\">\n",
              "  <thead>\n",
              "    <tr style=\"text-align: right;\">\n",
              "      <th></th>\n",
              "      <th>Producto</th>\n",
              "      <th>Mes</th>\n",
              "      <th>Sucursal</th>\n",
              "      <th>Precio_unitario</th>\n",
              "      <th>Cantidad_vendida</th>\n",
              "      <th>Ingresos_totales</th>\n",
              "    </tr>\n",
              "  </thead>\n",
              "  <tbody>\n",
              "    <tr>\n",
              "      <th>20</th>\n",
              "      <td>B</td>\n",
              "      <td>Febrero</td>\n",
              "      <td>Norte</td>\n",
              "      <td>98.16</td>\n",
              "      <td>24</td>\n",
              "      <td>2355.84</td>\n",
              "    </tr>\n",
              "    <tr>\n",
              "      <th>29</th>\n",
              "      <td>B</td>\n",
              "      <td>Abril</td>\n",
              "      <td>Sur</td>\n",
              "      <td>95.42</td>\n",
              "      <td>35</td>\n",
              "      <td>3339.70</td>\n",
              "    </tr>\n",
              "    <tr>\n",
              "      <th>39</th>\n",
              "      <td>C</td>\n",
              "      <td>Febrero</td>\n",
              "      <td>Oeste</td>\n",
              "      <td>94.98</td>\n",
              "      <td>19</td>\n",
              "      <td>1804.62</td>\n",
              "    </tr>\n",
              "    <tr>\n",
              "      <th>38</th>\n",
              "      <td>C</td>\n",
              "      <td>Febrero</td>\n",
              "      <td>Este</td>\n",
              "      <td>94.95</td>\n",
              "      <td>13</td>\n",
              "      <td>1234.35</td>\n",
              "    </tr>\n",
              "    <tr>\n",
              "      <th>6</th>\n",
              "      <td>A</td>\n",
              "      <td>Febrero</td>\n",
              "      <td>Este</td>\n",
              "      <td>94.12</td>\n",
              "      <td>36</td>\n",
              "      <td>3388.32</td>\n",
              "    </tr>\n",
              "    <tr>\n",
              "      <th>33</th>\n",
              "      <td>C</td>\n",
              "      <td>Enero</td>\n",
              "      <td>Sur</td>\n",
              "      <td>94.01</td>\n",
              "      <td>49</td>\n",
              "      <td>4606.49</td>\n",
              "    </tr>\n",
              "    <tr>\n",
              "      <th>1</th>\n",
              "      <td>A</td>\n",
              "      <td>Enero</td>\n",
              "      <td>Sur</td>\n",
              "      <td>92.37</td>\n",
              "      <td>11</td>\n",
              "      <td>1016.07</td>\n",
              "    </tr>\n",
              "    <tr>\n",
              "      <th>30</th>\n",
              "      <td>B</td>\n",
              "      <td>Abril</td>\n",
              "      <td>Este</td>\n",
              "      <td>89.80</td>\n",
              "      <td>41</td>\n",
              "      <td>3681.80</td>\n",
              "    </tr>\n",
              "    <tr>\n",
              "      <th>40</th>\n",
              "      <td>C</td>\n",
              "      <td>Marzo</td>\n",
              "      <td>Norte</td>\n",
              "      <td>88.05</td>\n",
              "      <td>49</td>\n",
              "      <td>4314.45</td>\n",
              "    </tr>\n",
              "    <tr>\n",
              "      <th>47</th>\n",
              "      <td>C</td>\n",
              "      <td>Abril</td>\n",
              "      <td>Oeste</td>\n",
              "      <td>83.86</td>\n",
              "      <td>7</td>\n",
              "      <td>587.02</td>\n",
              "    </tr>\n",
              "  </tbody>\n",
              "</table>\n",
              "</div>"
            ],
            "text/plain": [
              "   Producto      Mes Sucursal  Precio_unitario  Cantidad_vendida  \\\n",
              "20        B  Febrero    Norte            98.16                24   \n",
              "29        B    Abril      Sur            95.42                35   \n",
              "39        C  Febrero    Oeste            94.98                19   \n",
              "38        C  Febrero     Este            94.95                13   \n",
              "6         A  Febrero     Este            94.12                36   \n",
              "33        C    Enero      Sur            94.01                49   \n",
              "1         A    Enero      Sur            92.37                11   \n",
              "30        B    Abril     Este            89.80                41   \n",
              "40        C    Marzo    Norte            88.05                49   \n",
              "47        C    Abril    Oeste            83.86                 7   \n",
              "\n",
              "    Ingresos_totales  \n",
              "20           2355.84  \n",
              "29           3339.70  \n",
              "39           1804.62  \n",
              "38           1234.35  \n",
              "6            3388.32  \n",
              "33           4606.49  \n",
              "1            1016.07  \n",
              "30           3681.80  \n",
              "40           4314.45  \n",
              "47            587.02  "
            ]
          },
          "execution_count": 17,
          "metadata": {},
          "output_type": "execute_result"
        }
      ],
      "source": [
        "precios_altos = df.nlargest(10, 'Precio_unitario')\n",
        "precios_altos"
      ]
    },
    {
      "cell_type": "markdown",
      "metadata": {
        "id": "xddG-GZ5C3Y0"
      },
      "source": [
        "***Gráfico de barras con Matplotlib***"
      ]
    },
    {
      "cell_type": "code",
      "execution_count": 18,
      "metadata": {
        "colab": {
          "base_uri": "https://localhost:8080/",
          "height": 668
        },
        "id": "02qHLpysDJ3V",
        "outputId": "a90e7ff2-14ee-4719-b4f9-a12e857e5243"
      },
      "outputs": [
        {
          "data": {
            "text/plain": [
              "<function matplotlib.pyplot.show(close=None, block=None)>"
            ]
          },
          "execution_count": 18,
          "metadata": {},
          "output_type": "execute_result"
        },
        {
          "data": {
            "image/png": "[encoded data removed]",
            "text/plain": [
              "<Figure size 640x480 with 1 Axes>"
            ]
          },
          "metadata": {},
          "output_type": "display_data"
        }
      ],
      "source": [
        "# Crear un gráfico de barras que agrupe las ventas por sucursal y mes,\n",
        "# y sume las cantidades vendidas.\n",
        "import matplotlib.pyplot as plt\n",
        "\n",
        "ventas_sucursal = df.groupby(['Sucursal', 'Mes'])['Cantidad_vendida'].sum().unstack()\n",
        "ventas_sucursal.plot(kind='bar', color=['#FFAEBC', '#A0E7E5', '#B4F8C8','#FBE7C6'])\n",
        "\n",
        "plt.title('Ventas por sucursal y mes')\n",
        "plt.ylabel('Cantidad Vendida')\n",
        "plt.xlabel('Sucursal')\n",
        "plt.show"
      ]
    },
    {
      "cell_type": "markdown",
      "metadata": {
        "id": "m4Q03kQoDKXM"
      },
      "source": [
        "***Gráfico de dispersión con Matplotlib***"
      ]
    },
    {
      "cell_type": "code",
      "execution_count": 19,
      "metadata": {
        "colab": {
          "base_uri": "https://localhost:8080/",
          "height": 472
        },
        "id": "WdI6cdiRDXff",
        "outputId": "dd958d4f-3561-44a8-ceaa-b0565399aad9"
      },
      "outputs": [
        {
          "data": {
            "image/png": "[encoded data removed]",
            "text/plain": [
              "<Figure size 640x480 with 1 Axes>"
            ]
          },
          "metadata": {},
          "output_type": "display_data"
        }
      ],
      "source": [
        "# Crear un gráfico de dispersión para mostrar la relación entre las columnas\n",
        "# “Ingresos totales” y “Cantidad Vendida”.\n",
        "\n",
        "import matplotlib.pyplot as plt\n",
        "import seaborn as sns\n",
        "\n",
        "plt.scatter(df['Cantidad_vendida'], df['Ingresos_totales'], color='#36eee0')\n",
        "sns.regplot(x='Cantidad_vendida', y='Ingresos_totales', data=df, scatter=False, color='#f652a0')\n",
        "\n",
        "\n",
        "plt.xlabel('Cantidades Vendidas')\n",
        "plt.ylabel('Ingresos totales')\n",
        "plt.title('Relación entre ingresos y cantidades')\n",
        "\n",
        "plt.show()"
      ]
    }
  ],
  "metadata": {
    "colab": {
      "provenance": []
    },
    "kernelspec": {
      "display_name": "Python 3",
      "name": "python3"
    },
    "language_info": {
      "codemirror_mode": {
        "name": "ipython",
        "version": 3
      },
      "file_extension": ".py",
      "mimetype": "text/x-python",
      "name": "python",
      "nbconvert_exporter": "python",
      "pygments_lexer": "ipython3",
      "version": "3.13.2"
    }
  },
  "nbformat": 4,
  "nbformat_minor": 0
}
